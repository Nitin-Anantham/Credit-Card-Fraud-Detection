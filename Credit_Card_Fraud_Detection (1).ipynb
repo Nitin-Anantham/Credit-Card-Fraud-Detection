{
  "nbformat": 4,
  "nbformat_minor": 0,
  "metadata": {
    "colab": {
      "provenance": []
    },
    "kernelspec": {
      "name": "python3",
      "display_name": "Python 3"
    },
    "language_info": {
      "name": "python"
    }
  },
  "cells": [
    {
      "cell_type": "markdown",
      "source": [
        "###Step 1: Upload and unzip the dataset archive"
      ],
      "metadata": {
        "id": "RVEwsQ4OfXkc"
      }
    },
    {
      "cell_type": "code",
      "execution_count": null,
      "metadata": {
        "id": "d3-aEywdK8uc"
      },
      "outputs": [],
      "source": [
        "\n",
        "from google.colab import files\n",
        "\n",
        "# upload the  file\n",
        "uploaded = files.upload()\n",
        "\n",
        "# Unzip the archive\n",
        "import zipfile\n",
        "import os\n",
        "\n",
        "archive_name = \"dataset\"\n",
        "\n",
        "with zipfile.ZipFile(archive_name, 'r') as zip_ref:\n",
        "    zip_ref.extractall()  # Extract all files to the current directory\n",
        "print(\"Archive unzipped successfully!\")\n",
        "print(\"Files in directory:\", os.listdir())"
      ]
    },
    {
      "cell_type": "code",
      "source": [
        "import io\n",
        "uploaded_filename = list(uploaded.keys())[0] # Get the filename\n",
        "\n",
        "# Specify the archive name (updated with actual uploaded filename)\n",
        "archive_name = uploaded_filename\n",
        "\n",
        "# Open the zip file with io.BytesIO to handle the uploaded file format\n",
        "with zipfile.ZipFile(io.BytesIO(uploaded[archive_name]), 'r') as zip_ref:\n",
        "    zip_ref.extractall()  # Extract all files to the current directory\n",
        "print(\"Archive unzipped successfully!\")\n",
        "print(\"Files in directory:\", os.listdir())"
      ],
      "metadata": {
        "colab": {
          "base_uri": "https://localhost:8080/"
        },
        "id": "DZws1pPlTdLg",
        "outputId": "7ca4ed15-833a-4183-c1d9-87dfc3347c25"
      },
      "execution_count": 20,
      "outputs": [
        {
          "output_type": "stream",
          "name": "stdout",
          "text": [
            "Archive unzipped successfully!\n",
            "Files in directory: ['.config', 'dataset', 'dataset (1).zip', 'fraudTest.csv', 'fraudTrain.csv', '.ipynb_checkpoints', 'sample_data']\n"
          ]
        }
      ]
    },
    {
      "cell_type": "markdown",
      "source": [
        "### Step 2: Import necessary libraries"
      ],
      "metadata": {
        "id": "Tob7rS2HfSkq"
      }
    },
    {
      "cell_type": "code",
      "source": [
        "\n",
        "import pandas as pd\n",
        "import numpy as np\n",
        "import seaborn as sns\n",
        "import matplotlib.pyplot as plt\n",
        "from sklearn.model_selection import train_test_split\n",
        "from sklearn.ensemble import RandomForestClassifier\n",
        "from sklearn.metrics import classification_report, confusion_matrix, roc_auc_score\n",
        "from imblearn.over_sampling import SMOTE  # For handling class imbalance"
      ],
      "metadata": {
        "id": "XxsdEoOYLV1O"
      },
      "execution_count": 1,
      "outputs": []
    },
    {
      "cell_type": "markdown",
      "source": [
        "###Step 3: Load the dataset"
      ],
      "metadata": {
        "id": "LUwXoUOvfL81"
      }
    },
    {
      "cell_type": "code",
      "source": [
        "data_file = 'fraudTrain.csv'\n",
        "df = pd.read_csv(data_file)\n",
        "\n",
        "print(\"Dataset loaded successfully!\")\n",
        "print(df.head())\n",
        "print(df.info())"
      ],
      "metadata": {
        "colab": {
          "base_uri": "https://localhost:8080/"
        },
        "id": "1ARUPuvVO1do",
        "outputId": "7241144c-d8ee-4f70-c1c0-8c9888cc7346"
      },
      "execution_count": 2,
      "outputs": [
        {
          "output_type": "stream",
          "name": "stdout",
          "text": [
            "Dataset loaded successfully!\n",
            "   Unnamed: 0 trans_date_trans_time            cc_num  \\\n",
            "0           0   2019-01-01 00:00:18  2703186189652095   \n",
            "1           1   2019-01-01 00:00:44      630423337322   \n",
            "2           2   2019-01-01 00:00:51    38859492057661   \n",
            "3           3   2019-01-01 00:01:16  3534093764340240   \n",
            "4           4   2019-01-01 00:03:06   375534208663984   \n",
            "\n",
            "                             merchant       category     amt      first  \\\n",
            "0          fraud_Rippin, Kub and Mann       misc_net    4.97   Jennifer   \n",
            "1     fraud_Heller, Gutmann and Zieme    grocery_pos  107.23  Stephanie   \n",
            "2                fraud_Lind-Buckridge  entertainment  220.11     Edward   \n",
            "3  fraud_Kutch, Hermiston and Farrell  gas_transport   45.00     Jeremy   \n",
            "4                 fraud_Keeling-Crist       misc_pos   41.96      Tyler   \n",
            "\n",
            "      last gender                        street  ...      lat      long  \\\n",
            "0    Banks      F                561 Perry Cove  ...  36.0788  -81.1781   \n",
            "1     Gill      F  43039 Riley Greens Suite 393  ...  48.8878 -118.2105   \n",
            "2  Sanchez      M      594 White Dale Suite 530  ...  42.1808 -112.2620   \n",
            "3    White      M   9443 Cynthia Court Apt. 038  ...  46.2306 -112.1138   \n",
            "4   Garcia      M              408 Bradley Rest  ...  38.4207  -79.4629   \n",
            "\n",
            "   city_pop                                job         dob  \\\n",
            "0      3495          Psychologist, counselling  1988-03-09   \n",
            "1       149  Special educational needs teacher  1978-06-21   \n",
            "2      4154        Nature conservation officer  1962-01-19   \n",
            "3      1939                    Patent attorney  1967-01-12   \n",
            "4        99     Dance movement psychotherapist  1986-03-28   \n",
            "\n",
            "                          trans_num   unix_time  merch_lat  merch_long  \\\n",
            "0  0b242abb623afc578575680df30655b9  1325376018  36.011293  -82.048315   \n",
            "1  1f76529f8574734946361c461b024d99  1325376044  49.159047 -118.186462   \n",
            "2  a1a22d70485983eac12b5b88dad1cf95  1325376051  43.150704 -112.154481   \n",
            "3  6b849c168bdad6f867558c3793159a81  1325376076  47.034331 -112.561071   \n",
            "4  a41d7549acf90789359a9aa5346dcb46  1325376186  38.674999  -78.632459   \n",
            "\n",
            "   is_fraud  \n",
            "0         0  \n",
            "1         0  \n",
            "2         0  \n",
            "3         0  \n",
            "4         0  \n",
            "\n",
            "[5 rows x 23 columns]\n",
            "<class 'pandas.core.frame.DataFrame'>\n",
            "RangeIndex: 1296675 entries, 0 to 1296674\n",
            "Data columns (total 23 columns):\n",
            " #   Column                 Non-Null Count    Dtype  \n",
            "---  ------                 --------------    -----  \n",
            " 0   Unnamed: 0             1296675 non-null  int64  \n",
            " 1   trans_date_trans_time  1296675 non-null  object \n",
            " 2   cc_num                 1296675 non-null  int64  \n",
            " 3   merchant               1296675 non-null  object \n",
            " 4   category               1296675 non-null  object \n",
            " 5   amt                    1296675 non-null  float64\n",
            " 6   first                  1296675 non-null  object \n",
            " 7   last                   1296675 non-null  object \n",
            " 8   gender                 1296675 non-null  object \n",
            " 9   street                 1296675 non-null  object \n",
            " 10  city                   1296675 non-null  object \n",
            " 11  state                  1296675 non-null  object \n",
            " 12  zip                    1296675 non-null  int64  \n",
            " 13  lat                    1296675 non-null  float64\n",
            " 14  long                   1296675 non-null  float64\n",
            " 15  city_pop               1296675 non-null  int64  \n",
            " 16  job                    1296675 non-null  object \n",
            " 17  dob                    1296675 non-null  object \n",
            " 18  trans_num              1296675 non-null  object \n",
            " 19  unix_time              1296675 non-null  int64  \n",
            " 20  merch_lat              1296675 non-null  float64\n",
            " 21  merch_long             1296675 non-null  float64\n",
            " 22  is_fraud               1296675 non-null  int64  \n",
            "dtypes: float64(5), int64(6), object(12)\n",
            "memory usage: 227.5+ MB\n",
            "None\n"
          ]
        }
      ]
    },
    {
      "cell_type": "code",
      "source": [
        "print(\"Column names:\", df.columns)\n"
      ],
      "metadata": {
        "colab": {
          "base_uri": "https://localhost:8080/"
        },
        "id": "jY9Pyq-5Wmsy",
        "outputId": "c6ead631-e187-4797-e799-44ae8877a987"
      },
      "execution_count": 5,
      "outputs": [
        {
          "output_type": "stream",
          "name": "stdout",
          "text": [
            "Column names: Index(['Unnamed: 0', 'trans_date_trans_time', 'cc_num', 'category', 'amt',\n",
            "       'first', 'last', 'gender', 'street', 'city', 'state', 'zip', 'lat',\n",
            "       'long', 'city_pop', 'job', 'dob', 'trans_num', 'unix_time', 'merch_lat',\n",
            "       'merch_long', 'is_fraud'],\n",
            "      dtype='object')\n"
          ]
        }
      ]
    },
    {
      "cell_type": "code",
      "source": [
        "print(\"Data types of features (X):\\n\", X.dtypes)\n",
        "print(\"Sample rows from features (X):\\n\", X.head())\n"
      ],
      "metadata": {
        "colab": {
          "base_uri": "https://localhost:8080/"
        },
        "id": "pvgnR7FvbH7u",
        "outputId": "6a1637ab-d8ef-466a-d529-98244d1ffe71"
      },
      "execution_count": 15,
      "outputs": [
        {
          "output_type": "stream",
          "name": "stdout",
          "text": [
            "Data types of features (X):\n",
            " cc_num                       int64\n",
            "merchant                    object\n",
            "amt                        float64\n",
            "city_pop                     int64\n",
            "transaction_year             int32\n",
            "transaction_month            int32\n",
            "transaction_day              int32\n",
            "transaction_hour             int32\n",
            "category_food_dining          bool\n",
            "category_gas_transport        bool\n",
            "category_grocery_net          bool\n",
            "category_grocery_pos          bool\n",
            "category_health_fitness       bool\n",
            "category_home                 bool\n",
            "category_kids_pets            bool\n",
            "category_misc_net             bool\n",
            "category_misc_pos             bool\n",
            "category_personal_care        bool\n",
            "category_shopping_net         bool\n",
            "category_shopping_pos         bool\n",
            "category_travel               bool\n",
            "gender_M                      bool\n",
            "dtype: object\n",
            "Sample rows from features (X):\n",
            "              cc_num                            merchant     amt  city_pop  \\\n",
            "0  2703186189652095          fraud_Rippin, Kub and Mann    4.97      3495   \n",
            "1      630423337322     fraud_Heller, Gutmann and Zieme  107.23       149   \n",
            "2    38859492057661                fraud_Lind-Buckridge  220.11      4154   \n",
            "3  3534093764340240  fraud_Kutch, Hermiston and Farrell   45.00      1939   \n",
            "4   375534208663984                 fraud_Keeling-Crist   41.96        99   \n",
            "\n",
            "   transaction_year  transaction_month  transaction_day  transaction_hour  \\\n",
            "0              2019                  1                1                 0   \n",
            "1              2019                  1                1                 0   \n",
            "2              2019                  1                1                 0   \n",
            "3              2019                  1                1                 0   \n",
            "4              2019                  1                1                 0   \n",
            "\n",
            "   category_food_dining  category_gas_transport  ...  category_health_fitness  \\\n",
            "0                 False                   False  ...                    False   \n",
            "1                 False                   False  ...                    False   \n",
            "2                 False                   False  ...                    False   \n",
            "3                 False                    True  ...                    False   \n",
            "4                 False                   False  ...                    False   \n",
            "\n",
            "   category_home  category_kids_pets  category_misc_net  category_misc_pos  \\\n",
            "0          False               False               True              False   \n",
            "1          False               False              False              False   \n",
            "2          False               False              False              False   \n",
            "3          False               False              False              False   \n",
            "4          False               False              False               True   \n",
            "\n",
            "   category_personal_care  category_shopping_net  category_shopping_pos  \\\n",
            "0                   False                  False                  False   \n",
            "1                   False                  False                  False   \n",
            "2                   False                  False                  False   \n",
            "3                   False                  False                  False   \n",
            "4                   False                  False                  False   \n",
            "\n",
            "   category_travel  gender_M  \n",
            "0            False     False  \n",
            "1            False     False  \n",
            "2            False      True  \n",
            "3            False      True  \n",
            "4            False      True  \n",
            "\n",
            "[5 rows x 22 columns]\n"
          ]
        }
      ]
    },
    {
      "cell_type": "markdown",
      "source": [
        "### Step 4: Data Preprocessing"
      ],
      "metadata": {
        "id": "Mgn4VyvGfzHr"
      }
    },
    {
      "cell_type": "code",
      "source": [
        "# Check for missing values\n",
        "print(\"Missing values:\\n\", df.isnull().sum())\n",
        "\n",
        "\n",
        "from sklearn.preprocessing import LabelEncoder\n",
        "from imblearn.over_sampling import SMOTE\n",
        "import pandas as pd\n",
        "\n",
        "# Drop unnecessary columns\n",
        "columns_to_drop = ['Unnamed: 0', 'first', 'last', 'street', 'city', 'state', 'zip', 'lat',\n",
        "                   'long', 'job', 'dob', 'trans_num', 'unix_time', 'merch_lat', 'merch_long']\n",
        "df = df.drop(columns=columns_to_drop, axis=1, errors='ignore')\n",
        "\n",
        "# Convert categorical columns\n",
        "categorical_columns = ['category', 'gender']\n",
        "for col in categorical_columns:\n",
        "    if col in df.columns:\n",
        "        label_encoder = LabelEncoder()\n",
        "        df[col] = label_encoder.fit_transform(df[col])\n",
        "\n",
        "# Check for numeric-only features\n",
        "X = df.drop('is_fraud', axis=1)  # Features\n",
        "y = df['is_fraud']  # Target\n",
        "\n",
        "\n",
        "\n"
      ],
      "metadata": {
        "id": "pVpKPCf5O1lF"
      },
      "execution_count": null,
      "outputs": []
    },
    {
      "cell_type": "markdown",
      "source": [],
      "metadata": {
        "id": "4DsDO1clbhCj"
      }
    },
    {
      "cell_type": "code",
      "source": [
        "# Handle 'merchant' column\n",
        "\n",
        "if 'merchant' in X.columns:\n",
        "\n",
        "    # Encode the column\n",
        "    from sklearn.preprocessing import LabelEncoder\n",
        "    label_encoder = LabelEncoder()\n",
        "    X['merchant'] = label_encoder.fit_transform(X['merchant'])\n",
        "    print(\"Encoded the 'merchant' column.\")\n",
        "\n",
        "# Verify all columns in X are now numeric\n",
        "print(\"Data types of features (X):\\n\", X.dtypes)\n",
        "print(\"Sample rows:\\n\", X.head())\n",
        "\n",
        "# Apply SMOTE\n",
        "from imblearn.over_sampling import SMOTE\n",
        "\n",
        "sm = SMOTE(random_state=42)\n",
        "X_resampled, y_resampled = sm.fit_resample(X, y)\n",
        "\n",
        "# Verify class distribution after SMOTE\n",
        "print(\"Class distribution after SMOTE:\\n\", pd.Series(y_resampled).value_counts())\n"
      ],
      "metadata": {
        "colab": {
          "base_uri": "https://localhost:8080/"
        },
        "id": "knYnn04qXxxA",
        "outputId": "fd5f02cb-ad06-45f0-be97-3e30a936ba26"
      },
      "execution_count": 16,
      "outputs": [
        {
          "output_type": "stream",
          "name": "stdout",
          "text": [
            "Encoded the 'merchant' column.\n",
            "Data types of features (X):\n",
            " cc_num                       int64\n",
            "merchant                     int64\n",
            "amt                        float64\n",
            "city_pop                     int64\n",
            "transaction_year             int32\n",
            "transaction_month            int32\n",
            "transaction_day              int32\n",
            "transaction_hour             int32\n",
            "category_food_dining          bool\n",
            "category_gas_transport        bool\n",
            "category_grocery_net          bool\n",
            "category_grocery_pos          bool\n",
            "category_health_fitness       bool\n",
            "category_home                 bool\n",
            "category_kids_pets            bool\n",
            "category_misc_net             bool\n",
            "category_misc_pos             bool\n",
            "category_personal_care        bool\n",
            "category_shopping_net         bool\n",
            "category_shopping_pos         bool\n",
            "category_travel               bool\n",
            "gender_M                      bool\n",
            "dtype: object\n",
            "Sample rows:\n",
            "              cc_num  merchant     amt  city_pop  transaction_year  \\\n",
            "0  2703186189652095       514    4.97      3495              2019   \n",
            "1      630423337322       241  107.23       149              2019   \n",
            "2    38859492057661       390  220.11      4154              2019   \n",
            "3  3534093764340240       360   45.00      1939              2019   \n",
            "4   375534208663984       297   41.96        99              2019   \n",
            "\n",
            "   transaction_month  transaction_day  transaction_hour  category_food_dining  \\\n",
            "0                  1                1                 0                 False   \n",
            "1                  1                1                 0                 False   \n",
            "2                  1                1                 0                 False   \n",
            "3                  1                1                 0                 False   \n",
            "4                  1                1                 0                 False   \n",
            "\n",
            "   category_gas_transport  ...  category_health_fitness  category_home  \\\n",
            "0                   False  ...                    False          False   \n",
            "1                   False  ...                    False          False   \n",
            "2                   False  ...                    False          False   \n",
            "3                    True  ...                    False          False   \n",
            "4                   False  ...                    False          False   \n",
            "\n",
            "   category_kids_pets  category_misc_net  category_misc_pos  \\\n",
            "0               False               True              False   \n",
            "1               False              False              False   \n",
            "2               False              False              False   \n",
            "3               False              False              False   \n",
            "4               False              False               True   \n",
            "\n",
            "   category_personal_care  category_shopping_net  category_shopping_pos  \\\n",
            "0                   False                  False                  False   \n",
            "1                   False                  False                  False   \n",
            "2                   False                  False                  False   \n",
            "3                   False                  False                  False   \n",
            "4                   False                  False                  False   \n",
            "\n",
            "   category_travel  gender_M  \n",
            "0            False     False  \n",
            "1            False     False  \n",
            "2            False      True  \n",
            "3            False      True  \n",
            "4            False      True  \n",
            "\n",
            "[5 rows x 22 columns]\n",
            "Class distribution after SMOTE:\n",
            " is_fraud\n",
            "0    1289169\n",
            "1    1289169\n",
            "Name: count, dtype: int64\n"
          ]
        }
      ]
    },
    {
      "cell_type": "code",
      "source": [
        "# Step 6: Split the dataset into training and testing sets\n",
        "X_train, X_test, y_train, y_test = train_test_split(X_resampled, y_resampled, test_size=0.3, random_state=42)\n",
        "\n",
        "# Step 7: Train a Random Forest Classifier\n",
        "clf = RandomForestClassifier(random_state=42, n_estimators=100)\n",
        "clf.fit(X_train, y_train)\n",
        "\n",
        "# Step 8: Make predictions and evaluate the model\n",
        "y_pred = clf.predict(X_test)\n",
        "\n",
        "print(\"Confusion Matrix:\\n\", confusion_matrix(y_test, y_pred))\n",
        "print(\"\\nClassification Report:\\n\", classification_report(y_test, y_pred))\n",
        "print(\"\\nROC-AUC Score:\", roc_auc_score(y_test, clf.predict_proba(X_test)[:, 1]))"
      ],
      "metadata": {
        "colab": {
          "base_uri": "https://localhost:8080/"
        },
        "id": "PP2YSxqYO1p1",
        "outputId": "9549f2b5-07bd-464c-c05b-1aba0ebe7fa4"
      },
      "execution_count": 17,
      "outputs": [
        {
          "output_type": "stream",
          "name": "stdout",
          "text": [
            "Confusion Matrix:\n",
            " [[385697    637]\n",
            " [   344 386824]]\n",
            "\n",
            "Classification Report:\n",
            "               precision    recall  f1-score   support\n",
            "\n",
            "           0       1.00      1.00      1.00    386334\n",
            "           1       1.00      1.00      1.00    387168\n",
            "\n",
            "    accuracy                           1.00    773502\n",
            "   macro avg       1.00      1.00      1.00    773502\n",
            "weighted avg       1.00      1.00      1.00    773502\n",
            "\n",
            "\n",
            "ROC-AUC Score: 0.9999861018395535\n"
          ]
        }
      ]
    },
    {
      "cell_type": "code",
      "source": [
        "from sklearn.metrics import accuracy_score, f1_score\n",
        "\n",
        "# Calculate Accuracy\n",
        "accuracy = accuracy_score(y_test, y_pred)\n",
        "print(f\"Accuracy: {accuracy:.4f}\")\n",
        "\n",
        "# Calculate F1-Score\n",
        "f1 = f1_score(y_test, y_pred)\n",
        "print(f\"F1-Score: {f1:.4f}\")\n"
      ],
      "metadata": {
        "colab": {
          "base_uri": "https://localhost:8080/"
        },
        "id": "VQAEwk3KXvLM",
        "outputId": "81db0c33-6885-4e78-b3c1-e0a8d702fe91"
      },
      "execution_count": 18,
      "outputs": [
        {
          "output_type": "stream",
          "name": "stdout",
          "text": [
            "Accuracy: 0.9987\n",
            "F1-Score: 0.9987\n"
          ]
        }
      ]
    },
    {
      "cell_type": "markdown",
      "source": [
        "###Final scores:\n",
        "####ROC-AUC Score: 0.9999861018395535\n",
        "####Accuracy: 0.9987\n",
        "####F1-Score: 0.9987"
      ],
      "metadata": {
        "id": "7nYTrpjYgGC4"
      }
    },
    {
      "cell_type": "code",
      "source": [
        "# Evaluate on Training Set\n",
        "y_train_pred = clf.predict(X_train)\n",
        "train_accuracy = accuracy_score(y_train, y_train_pred)\n",
        "print(f\"Training Accuracy: {train_accuracy:.4f}\")\n",
        "\n",
        "# Evaluate on Test Set\n",
        "y_test_pred = clf.predict(X_test)\n",
        "test_accuracy = accuracy_score(y_test, y_test_pred)\n",
        "print(f\"Test Accuracy: {test_accuracy:.4f}\")\n"
      ],
      "metadata": {
        "colab": {
          "base_uri": "https://localhost:8080/"
        },
        "id": "4MwFdVTOgkYO",
        "outputId": "38d4a435-1927-4368-b976-cc8c79739a1a"
      },
      "execution_count": 19,
      "outputs": [
        {
          "output_type": "stream",
          "name": "stdout",
          "text": [
            "Training Accuracy: 1.0000\n",
            "Test Accuracy: 0.9987\n"
          ]
        }
      ]
    }
  ]
}